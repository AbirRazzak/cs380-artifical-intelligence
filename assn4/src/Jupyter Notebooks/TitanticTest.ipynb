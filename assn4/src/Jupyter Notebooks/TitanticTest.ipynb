{
 "cells": [
  {
   "cell_type": "markdown",
   "metadata": {},
   "source": [
    "#Titanic Data Analysis - CS380 Artifical Intelligence#"
   ]
  },
  {
   "cell_type": "code",
   "execution_count": 1,
   "metadata": {},
   "outputs": [],
   "source": [
    "import pandas as pd\n",
    "import matplotlib.pyplot as plt\n",
    "import seaborn as sns\n",
    "sns.set(style=\"darkgrid\")\n",
    "pd.options.display.max_rows = 100"
   ]
  },
  {
   "cell_type": "code",
   "execution_count": 2,
   "metadata": {
    "scrolled": false
   },
   "outputs": [],
   "source": [
    "data = pd.read_csv('./titanic/train.csv')\n",
    "data.columns=['PassengerId', 'Survived', 'Pclass', 'Name', 'Sex', 'Age', 'SibSp', 'Parch', 'Ticket', 'Fare', 'Cabin', 'Embarked']"
   ]
  },
  {
   "cell_type": "markdown",
   "metadata": {},
   "source": [
    "##Understanding sibsp and parch##"
   ]
  },
  {
   "cell_type": "code",
   "execution_count": null,
   "metadata": {},
   "outputs": [],
   "source": [
    "Futrelle = data[data['Name'].str.contains('Futrelle')]\n",
    "Palsson = data[data['Name'].str.contains('Palsson')]\n",
    "Skoog = data[data['Name'].str.contains('Skoog')]\n",
    "\n",
    "Filter = pd.concat([Futrelle, Palsson, Skoog])\n",
    "Filter"
   ]
  },
  {
   "cell_type": "markdown",
   "metadata": {},
   "source": [
    "Some of the data is missing from the training data set, however we can still see that the numbers should align with each other in a meaningful way.\n",
    "\n",
    "'SibSp' represents the number of siblings and spouces are on board. When looking at the Futrelle's, you can see that both Mr and Mrs Futrelle have a 1 in that column. It's safe to assume that they are married, and there is a 1 because they are each others spouces.\n",
    "\n",
    "'Parch' represents the number of parents and children are on board. When looking at the Palsson's you can see that the 3 children (Gosta, Torborg, Stina) all have 3's for SibSp. This would indicate incorrect data, however they have a 1 for Parch, which means they have a parent (or nanny) on board. When looking at Passenger 567, she has a 4 in Parch, which indicates that there are 4 children on board, 1 of which is just omitted from the data set. This would explain why the children have a 3 for SibSp and why 567 has a 4 for Parch."
   ]
  }
 ],
 "metadata": {
  "kernelspec": {
   "display_name": "Python 3",
   "language": "python",
   "name": "python3"
  },
  "language_info": {
   "codemirror_mode": {
    "name": "ipython",
    "version": 3
   },
   "file_extension": ".py",
   "mimetype": "text/x-python",
   "name": "python",
   "nbconvert_exporter": "python",
   "pygments_lexer": "ipython3",
   "version": "3.7.3"
  }
 },
 "nbformat": 4,
 "nbformat_minor": 2
}
